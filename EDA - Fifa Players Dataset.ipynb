{
 "cells": [
  {
   "cell_type": "raw",
   "id": "8d5400ab-80e8-4438-87b3-402292be1d62",
   "metadata": {},
   "source": [
    "Using  fifa players dataset. Perform Exploratory data analysis and find the following insights:\n",
    "1.Which country has the most number of players (score :1)"
   ]
  },
  {
   "cell_type": "code",
   "execution_count": 1,
   "id": "6d160f8e-beab-435d-a835-06a07de5b473",
   "metadata": {},
   "outputs": [],
   "source": [
    "# 1"
   ]
  },
  {
   "cell_type": "code",
   "execution_count": 2,
   "id": "94d12e35-8084-4f4b-b6da-63a6663217b7",
   "metadata": {},
   "outputs": [],
   "source": [
    "import numpy as np\n",
    "import pandas as pd\n",
    "import matplotlib.pyplot as plt\n",
    "import seaborn as sns"
   ]
  },
  {
   "cell_type": "code",
   "execution_count": 3,
   "id": "6271cd00-f860-4b9c-ab6c-6fc38ce4f6bc",
   "metadata": {},
   "outputs": [],
   "source": [
    "df = pd.read_csv('fifa_data.csv')"
   ]
  },
  {
   "cell_type": "code",
   "execution_count": 4,
   "id": "c2c2a3e3-6998-4093-a236-90a905c28e28",
   "metadata": {},
   "outputs": [
    {
     "data": {
      "text/html": [
       "<div>\n",
       "<style scoped>\n",
       "    .dataframe tbody tr th:only-of-type {\n",
       "        vertical-align: middle;\n",
       "    }\n",
       "\n",
       "    .dataframe tbody tr th {\n",
       "        vertical-align: top;\n",
       "    }\n",
       "\n",
       "    .dataframe thead th {\n",
       "        text-align: right;\n",
       "    }\n",
       "</style>\n",
       "<table border=\"1\" class=\"dataframe\">\n",
       "  <thead>\n",
       "    <tr style=\"text-align: right;\">\n",
       "      <th></th>\n",
       "      <th>Unnamed: 0</th>\n",
       "      <th>ID</th>\n",
       "      <th>Name</th>\n",
       "      <th>Age</th>\n",
       "      <th>Photo</th>\n",
       "      <th>Nationality</th>\n",
       "      <th>Flag</th>\n",
       "      <th>Overall</th>\n",
       "      <th>Potential</th>\n",
       "      <th>Club</th>\n",
       "      <th>...</th>\n",
       "      <th>Composure</th>\n",
       "      <th>Marking</th>\n",
       "      <th>StandingTackle</th>\n",
       "      <th>SlidingTackle</th>\n",
       "      <th>GKDiving</th>\n",
       "      <th>GKHandling</th>\n",
       "      <th>GKKicking</th>\n",
       "      <th>GKPositioning</th>\n",
       "      <th>GKReflexes</th>\n",
       "      <th>Release Clause</th>\n",
       "    </tr>\n",
       "  </thead>\n",
       "  <tbody>\n",
       "    <tr>\n",
       "      <th>0</th>\n",
       "      <td>0</td>\n",
       "      <td>158023</td>\n",
       "      <td>L. Messi</td>\n",
       "      <td>31</td>\n",
       "      <td>https://cdn.sofifa.org/players/4/19/158023.png</td>\n",
       "      <td>Argentina</td>\n",
       "      <td>https://cdn.sofifa.org/flags/52.png</td>\n",
       "      <td>94</td>\n",
       "      <td>94</td>\n",
       "      <td>FC Barcelona</td>\n",
       "      <td>...</td>\n",
       "      <td>96.0</td>\n",
       "      <td>33.0</td>\n",
       "      <td>28.0</td>\n",
       "      <td>26.0</td>\n",
       "      <td>6.0</td>\n",
       "      <td>11.0</td>\n",
       "      <td>15.0</td>\n",
       "      <td>14.0</td>\n",
       "      <td>8.0</td>\n",
       "      <td>€226.5M</td>\n",
       "    </tr>\n",
       "    <tr>\n",
       "      <th>1</th>\n",
       "      <td>1</td>\n",
       "      <td>20801</td>\n",
       "      <td>Cristiano Ronaldo</td>\n",
       "      <td>33</td>\n",
       "      <td>https://cdn.sofifa.org/players/4/19/20801.png</td>\n",
       "      <td>Portugal</td>\n",
       "      <td>https://cdn.sofifa.org/flags/38.png</td>\n",
       "      <td>94</td>\n",
       "      <td>94</td>\n",
       "      <td>Juventus</td>\n",
       "      <td>...</td>\n",
       "      <td>95.0</td>\n",
       "      <td>28.0</td>\n",
       "      <td>31.0</td>\n",
       "      <td>23.0</td>\n",
       "      <td>7.0</td>\n",
       "      <td>11.0</td>\n",
       "      <td>15.0</td>\n",
       "      <td>14.0</td>\n",
       "      <td>11.0</td>\n",
       "      <td>€127.1M</td>\n",
       "    </tr>\n",
       "    <tr>\n",
       "      <th>2</th>\n",
       "      <td>2</td>\n",
       "      <td>190871</td>\n",
       "      <td>Neymar Jr</td>\n",
       "      <td>26</td>\n",
       "      <td>https://cdn.sofifa.org/players/4/19/190871.png</td>\n",
       "      <td>Brazil</td>\n",
       "      <td>https://cdn.sofifa.org/flags/54.png</td>\n",
       "      <td>92</td>\n",
       "      <td>93</td>\n",
       "      <td>Paris Saint-Germain</td>\n",
       "      <td>...</td>\n",
       "      <td>94.0</td>\n",
       "      <td>27.0</td>\n",
       "      <td>24.0</td>\n",
       "      <td>33.0</td>\n",
       "      <td>9.0</td>\n",
       "      <td>9.0</td>\n",
       "      <td>15.0</td>\n",
       "      <td>15.0</td>\n",
       "      <td>11.0</td>\n",
       "      <td>€228.1M</td>\n",
       "    </tr>\n",
       "    <tr>\n",
       "      <th>3</th>\n",
       "      <td>3</td>\n",
       "      <td>193080</td>\n",
       "      <td>De Gea</td>\n",
       "      <td>27</td>\n",
       "      <td>https://cdn.sofifa.org/players/4/19/193080.png</td>\n",
       "      <td>Spain</td>\n",
       "      <td>https://cdn.sofifa.org/flags/45.png</td>\n",
       "      <td>91</td>\n",
       "      <td>93</td>\n",
       "      <td>Manchester United</td>\n",
       "      <td>...</td>\n",
       "      <td>68.0</td>\n",
       "      <td>15.0</td>\n",
       "      <td>21.0</td>\n",
       "      <td>13.0</td>\n",
       "      <td>90.0</td>\n",
       "      <td>85.0</td>\n",
       "      <td>87.0</td>\n",
       "      <td>88.0</td>\n",
       "      <td>94.0</td>\n",
       "      <td>€138.6M</td>\n",
       "    </tr>\n",
       "  </tbody>\n",
       "</table>\n",
       "<p>4 rows × 89 columns</p>\n",
       "</div>"
      ],
      "text/plain": [
       "   Unnamed: 0      ID               Name  Age  \\\n",
       "0           0  158023           L. Messi   31   \n",
       "1           1   20801  Cristiano Ronaldo   33   \n",
       "2           2  190871          Neymar Jr   26   \n",
       "3           3  193080             De Gea   27   \n",
       "\n",
       "                                            Photo Nationality  \\\n",
       "0  https://cdn.sofifa.org/players/4/19/158023.png   Argentina   \n",
       "1   https://cdn.sofifa.org/players/4/19/20801.png    Portugal   \n",
       "2  https://cdn.sofifa.org/players/4/19/190871.png      Brazil   \n",
       "3  https://cdn.sofifa.org/players/4/19/193080.png       Spain   \n",
       "\n",
       "                                  Flag  Overall  Potential  \\\n",
       "0  https://cdn.sofifa.org/flags/52.png       94         94   \n",
       "1  https://cdn.sofifa.org/flags/38.png       94         94   \n",
       "2  https://cdn.sofifa.org/flags/54.png       92         93   \n",
       "3  https://cdn.sofifa.org/flags/45.png       91         93   \n",
       "\n",
       "                  Club  ... Composure Marking StandingTackle  SlidingTackle  \\\n",
       "0         FC Barcelona  ...      96.0    33.0           28.0           26.0   \n",
       "1             Juventus  ...      95.0    28.0           31.0           23.0   \n",
       "2  Paris Saint-Germain  ...      94.0    27.0           24.0           33.0   \n",
       "3    Manchester United  ...      68.0    15.0           21.0           13.0   \n",
       "\n",
       "  GKDiving  GKHandling  GKKicking  GKPositioning GKReflexes Release Clause  \n",
       "0      6.0        11.0       15.0           14.0        8.0        €226.5M  \n",
       "1      7.0        11.0       15.0           14.0       11.0        €127.1M  \n",
       "2      9.0         9.0       15.0           15.0       11.0        €228.1M  \n",
       "3     90.0        85.0       87.0           88.0       94.0        €138.6M  \n",
       "\n",
       "[4 rows x 89 columns]"
      ]
     },
     "execution_count": 4,
     "metadata": {},
     "output_type": "execute_result"
    }
   ],
   "source": [
    "df.head(4)"
   ]
  },
  {
   "cell_type": "code",
   "execution_count": 5,
   "id": "e6425650-e4a1-441c-add4-e7e040eb4bf9",
   "metadata": {},
   "outputs": [
    {
     "name": "stdout",
     "output_type": "stream",
     "text": [
      "The country which has the most number of players is : England\n"
     ]
    }
   ],
   "source": [
    "most_players_country = df['Nationality'].value_counts().idxmax()\n",
    "print(\"The country which has the most number of players is :\" ,most_players_country)"
   ]
  },
  {
   "cell_type": "code",
   "execution_count": 6,
   "id": "5b3f1ff4-c4fd-485f-b657-1e81ffd36a27",
   "metadata": {},
   "outputs": [],
   "source": [
    "# 2"
   ]
  },
  {
   "cell_type": "markdown",
   "id": "8376f373-0c7a-4bcf-b301-3478e66fb0d1",
   "metadata": {},
   "source": [
    "2.Plot a bar chart of 5 top countries with the most number of players. (score :1)"
   ]
  },
  {
   "cell_type": "code",
   "execution_count": 7,
   "id": "7959e0ba-6f32-4657-86ac-df364017db05",
   "metadata": {},
   "outputs": [],
   "source": [
    "top_countries = df['Nationality'].value_counts().head(5)"
   ]
  },
  {
   "cell_type": "code",
   "execution_count": 8,
   "id": "b00a2f1e-ed91-40b3-9af7-a4469dcbd660",
   "metadata": {},
   "outputs": [
    {
     "data": {
      "image/png": "[encoded data removed]",
      "text/plain": [
       "<Figure size 700x600 with 1 Axes>"
      ]
     },
     "metadata": {},
     "output_type": "display_data"
    }
   ],
   "source": [
    "plt.figure(figsize = (7,6))\n",
    "sns.barplot(x= top_countries.index,y=top_countries.values,hue = top_countries,palette=\"rocket_r\",legend = False)\n",
    "plt.title(\"Top 5 countries with the most number of players\")\n",
    "plt.xlabel(\"Country\")\n",
    "plt.ylabel(\"Number of Players\")\n",
    "plt.show()"
   ]
  },
  {
   "cell_type": "code",
   "execution_count": 9,
   "id": "dd68f268-dde4-4e3c-805c-1e6c016b3379",
   "metadata": {},
   "outputs": [],
   "source": [
    "# 3"
   ]
  },
  {
   "cell_type": "markdown",
   "id": "ef7a93de-6783-4f8b-bda7-4f9950f3c3d0",
   "metadata": {},
   "source": [
    "3.Which player has the highest salary? (score :1)"
   ]
  },
  {
   "cell_type": "code",
   "execution_count": 10,
   "id": "3e47bc65-935d-4945-8924-ef71a3de10c7",
   "metadata": {},
   "outputs": [],
   "source": [
    "highest_salary_player = df.loc[df['Wage'].idxmax()]"
   ]
  },
  {
   "cell_type": "code",
   "execution_count": 11,
   "id": "658d87f2-bdfe-4a45-be63-421063a5e002",
   "metadata": {},
   "outputs": [
    {
     "name": "stdout",
     "output_type": "stream",
     "text": [
      "The player F. Marchetti has the highest salary: €9K.\n"
     ]
    }
   ],
   "source": [
    "print(f\"The player {highest_salary_player['Name']} has the highest salary: {highest_salary_player['Wage']}.\")"
   ]
  },
  {
   "cell_type": "code",
   "execution_count": 12,
   "id": "cce3f24c-a855-46d9-85de-b84b8ffb8e7b",
   "metadata": {},
   "outputs": [],
   "source": [
    "# 4"
   ]
  },
  {
   "cell_type": "markdown",
   "id": "cbc92afd-8256-4031-b053-d171a74e849a",
   "metadata": {},
   "source": [
    "4.Plot a histogram to get the salary range of the players. (score :1)"
   ]
  },
  {
   "cell_type": "code",
   "execution_count": 74,
   "id": "ee6d9350-c777-4019-b4f2-43b8abd7c6ac",
   "metadata": {},
   "outputs": [
    {
     "data": {
      "image/png": "[encoded data removed]",
      "text/plain": [
       "<Figure size 900x500 with 1 Axes>"
      ]
     },
     "metadata": {},
     "output_type": "display_data"
    }
   ],
   "source": [
    "y = df['Wage']\n",
    "plt.figure(figsize=(9,5))\n",
    "plt.title(\"Salary range of players\")\n",
    "plt.hist(y,color = 'olive')\n",
    "plt.xlabel(\"Salary\")\n",
    "plt.ylabel(\"Number of Players\")\n",
    "plt.show()"
   ]
  },
  {
   "cell_type": "code",
   "execution_count": 22,
   "id": "6c41ba52-97fc-451c-9299-05e3947ff76d",
   "metadata": {},
   "outputs": [],
   "source": [
    "# 5"
   ]
  },
  {
   "cell_type": "markdown",
   "id": "0ec1eb23-dad5-4366-a94e-7b13286a2aab",
   "metadata": {},
   "source": [
    "5.Who is the tallest player in the fifa? (score :1)"
   ]
  },
  {
   "cell_type": "code",
   "execution_count": 44,
   "id": "96521797-f1e3-4a4b-9fa2-11587ba8e43d",
   "metadata": {},
   "outputs": [],
   "source": [
    "df['Height_ft'] = df['Height'].str.split(\"'\").str[0].fillna(0).astype(int)\n",
    "df['Height_in'] = df['Height'].str.split(\"'\").str[1].fillna(0).astype(int)"
   ]
  },
  {
   "cell_type": "code",
   "execution_count": 45,
   "id": "6857dc09-3ed1-4a1a-993e-dc4fd56fa655",
   "metadata": {},
   "outputs": [],
   "source": [
    "df = df.dropna(subset=['Height'])"
   ]
  },
  {
   "cell_type": "code",
   "execution_count": 46,
   "id": "6c0798b7-dcf7-4f90-a1bc-0ef1008d4ce1",
   "metadata": {},
   "outputs": [],
   "source": [
    "df['Height_ft'] = df['Height'].str.split(\"'\").str[0].astype(int)\n",
    "df['Height_in'] = df['Height'].str.split(\"'\").str[1].astype(int)"
   ]
  },
  {
   "cell_type": "code",
   "execution_count": 47,
   "id": "8b7b0a09-0649-4348-871b-2cb41285c59e",
   "metadata": {},
   "outputs": [],
   "source": [
    "df['Height_cm'] = (df['Height_ft'] * 12 + df['Height_in']) * 2.54"
   ]
  },
  {
   "cell_type": "code",
   "execution_count": 48,
   "id": "33e65ee1-8798-4ddb-896c-8e00d0cb76af",
   "metadata": {},
   "outputs": [],
   "source": [
    "tallest_player = df.loc[df['Height_cm'].idxmax()]"
   ]
  },
  {
   "cell_type": "code",
   "execution_count": 60,
   "id": "c9fccef0-1345-4c70-8f61-19a4869028a3",
   "metadata": {},
   "outputs": [],
   "source": [
    "height = tallest_player['Height']"
   ]
  },
  {
   "cell_type": "code",
   "execution_count": 68,
   "id": "2e99a8e7-f0e0-4743-b0b7-47240cc277b2",
   "metadata": {},
   "outputs": [
    {
     "name": "stdout",
     "output_type": "stream",
     "text": [
      "The tallest player in the FIFA is : T. Holý and the height : 6'9\n"
     ]
    }
   ],
   "source": [
    "print(\"The tallest player in the FIFA is :\",tallest_player['Name'] ,\"and the height :\",  height)"
   ]
  },
  {
   "cell_type": "code",
   "execution_count": 59,
   "id": "29a6c141-ade3-4cfd-a200-7aa3b21337fa",
   "metadata": {},
   "outputs": [
    {
     "data": {
      "text/plain": [
       "\"6'9\""
      ]
     },
     "execution_count": 59,
     "metadata": {},
     "output_type": "execute_result"
    }
   ],
   "source": [
    "height = tallest_player['Height'] "
   ]
  },
  {
   "cell_type": "code",
   "execution_count": 23,
   "id": "7e5a826e-4daf-4a66-a15a-e1651279fd05",
   "metadata": {},
   "outputs": [],
   "source": [
    "# 6"
   ]
  },
  {
   "cell_type": "markdown",
   "id": "e22a6cc6-1dc5-439b-9aa6-5db89c685e8f",
   "metadata": {},
   "source": [
    "6.Which club has the most number of players? (score :1)"
   ]
  },
  {
   "cell_type": "code",
   "execution_count": 28,
   "id": "b58e8658-139c-468d-9802-3f5991c5a9e1",
   "metadata": {},
   "outputs": [
    {
     "name": "stdout",
     "output_type": "stream",
     "text": [
      "The Club which has most players is : FC Barcelona\n"
     ]
    }
   ],
   "source": [
    "most_players_club = df['Club'].value_counts().idxmax()\n",
    "print(f\"The Club which has most players is : {most_players_club}\")"
   ]
  },
  {
   "cell_type": "code",
   "execution_count": 29,
   "id": "b3728cb1-4856-48d1-ad73-af8a28f12786",
   "metadata": {},
   "outputs": [],
   "source": [
    "# 7 "
   ]
  },
  {
   "cell_type": "markdown",
   "id": "dfd3f6b6-ceb6-4b78-9980-2a189e460c83",
   "metadata": {},
   "source": [
    "7.Which foot is most preferred by the players?Draw a bar chart for preferred foot (score :1)"
   ]
  },
  {
   "cell_type": "code",
   "execution_count": 42,
   "id": "12dc1f7e-e70e-4f2a-8709-8f3437d191ac",
   "metadata": {},
   "outputs": [
    {
     "data": {
      "image/png": "[encoded data removed]",
      "text/plain": [
       "<Figure size 600x500 with 1 Axes>"
      ]
     },
     "metadata": {},
     "output_type": "display_data"
    }
   ],
   "source": [
    "preferred_foot_counts = df['Preferred Foot'].value_counts()\n",
    "plt.figure(figsize=(6,5))\n",
    "sns.barplot(x = preferred_foot_counts.index,y=preferred_foot_counts.values,hue = preferred_foot_counts,legend =False ,palette ='Accent_r')\n",
    "plt.title('Preferred Foot of Players')  \n",
    "plt.xlabel('Preferred Foot')  \n",
    "plt.ylabel('Number of Players')  \n",
    "plt.grid(False)  \n",
    "plt.show()  "
   ]
  },
  {
   "cell_type": "raw",
   "id": "00e05b97-af12-4fc3-b922-3bd861ae8620",
   "metadata": {},
   "source": [
    "Data Story\n",
    "Describe the insights you gained from each question."
   ]
  },
  {
   "cell_type": "raw",
   "id": "b91a924f-17aa-498d-a07c-13ebb02bd797",
   "metadata": {},
   "source": [
    "In FIFA dataset the country England has the most number of players. The top 5 country which has the most number of players is \n",
    "England > Germany > Spain > Argentina > France\n",
    "The player 'F. Marchetti' has the highest salary: €9K. The tallest player in the FIFA is : T. Holý and the height : 6'9.\n",
    "The histogram displaying the salary distribution of players and the y-axis shows the number of players in each salary bin, helping to identify how common specific salary ranges are within the dataset.\n",
    "The Club 'FC Barcelona' has the most number of players.\n",
    "Most preferred foot by the players is Right foot"
   ]
  },
  {
   "cell_type": "code",
   "execution_count": null,
   "id": "71443c3a-92dc-49fc-a327-02e2e99ed86d",
   "metadata": {},
   "outputs": [],
   "source": []
  }
 ],
 "metadata": {
  "kernelspec": {
   "display_name": "Python 3 (ipykernel)",
   "language": "python",
   "name": "python3"
  },
  "language_info": {
   "codemirror_mode": {
    "name": "ipython",
    "version": 3
   },
   "file_extension": ".py",
   "mimetype": "text/x-python",
   "name": "python",
   "nbconvert_exporter": "python",
   "pygments_lexer": "ipython3",
   "version": "3.12.4"
  }
 },
 "nbformat": 4,
 "nbformat_minor": 5
}
